{
 "cells": [
  {
   "metadata": {},
   "cell_type": "code",
   "source": [
    "import matplotlib.pyplot as plt\n",
    "import seaborn as sns\n",
    "from classes.paths import LocalPaths"
   ],
   "id": "initial_id",
   "outputs": [],
   "execution_count": null
  },
  {
   "metadata": {},
   "cell_type": "code",
   "source": [
    "path = LocalPaths().data / \"plots\" / \"optimizer_runtimes.pdf\"\n",
    "\n",
    "dark_palette = sns.color_palette(\"muted\", 9)\n",
    "light_palette = sns.color_palette(\"pastel\", 9)\n",
    "\n",
    "fig, ax = plt.subplots(nrows=1, ncols=1, figsize=(3, 1), sharey=True)\n",
    "x = ['Zero-Shot', 'Zero-Shot\\n(act. cards)', 'Sc. Postgres\\n(V13)', 'Sc. Postgres\\n(V13, act. cards)', 'Sc. Postgres\\n(V16)', 'Sc. Postgres\\n(V16, act. cards)', None, None]\n",
    "pg10_optimal = 445.65\n",
    "y = [530, 522, 518, 450, 562, 449]\n",
    "y = [a/pg10_optimal for a in y]\n",
    "\n",
    "# Define custom x-tick positions with extra space between the third and fourth bar\n",
    "custom_x_positions = [0, 1, 2, 3.5, 4.5, 5.5]\n",
    "plt.yticks(fontsize=13)\n",
    "\n",
    "# Set bar colors for specific bars\n",
    "ax.bar(custom_x_positions[0], y[2], color=dark_palette[7], edgecolor='black', label='Sc. PG10', hatch='//', width=1)\n",
    "ax.bar(custom_x_positions[1], y[4], color=dark_palette[8], edgecolor='black', label='Sc. PG16', hatch = '\\\\\\\\', width=1)\n",
    "ax.bar(custom_x_positions[2], y[0], color=dark_palette[6], edgecolor='black', label='Zero-Shot', hatch='o', width=1)\n",
    "ax.bar(custom_x_positions[3], y[3], color=light_palette[7], edgecolor='black', label='Sc. PG10 (act. card.)', hatch = '//', width=1)\n",
    "ax.bar(custom_x_positions[4], y[5], color=light_palette[8], edgecolor='black', label='Sc. PG16 (act. card.)', hatch = '\\\\\\\\', width=1)\n",
    "ax.bar(custom_x_positions[5], y[1], color=light_palette[6], edgecolor='black', label='Zero-Shot (act. card.)', hatch='xx', width=1)\n",
    "ax.set_ylabel('Relative\\nSlow-Down',  fontsize=13)\n",
    "ax.set_xticklabels([], fontsize=13)\n",
    "ax.tick_params(axis='x', which='major', pad=-3)\n",
    "\n",
    "legend = ax.legend(fontsize=10,\n",
    "                   ncol=2,\n",
    "                   loc='center left',\n",
    "                   bbox_to_anchor=(-1.8, 0.45),\n",
    "                   labelspacing=0.2,\n",
    "                   edgecolor='white')\n",
    "\n",
    "ax.set_ylim(1, 1.28)\n",
    "ax.text(1.1, 0.95, 'Est. Cards.', ha='center', va='center', fontsize=12, backgroundcolor='gray', bbox=dict(facecolor='white', edgecolor='white', alpha=0))\n",
    "ax.text(4.6, 0.95, 'Act. Cards.', ha='center', va='center', fontsize=12, backgroundcolor='gray', bbox=dict(facecolor='white', edgecolor='white', alpha=0))\n",
    "\n",
    "plt.grid(True)\n",
    "plt.savefig(path, bbox_inches='tight')"
   ],
   "id": "2b1775c881fba282",
   "outputs": [],
   "execution_count": null
  }
 ],
 "metadata": {
  "kernelspec": {
   "display_name": "Python 3",
   "language": "python",
   "name": "python3"
  },
  "language_info": {
   "codemirror_mode": {
    "name": "ipython",
    "version": 2
   },
   "file_extension": ".py",
   "mimetype": "text/x-python",
   "name": "python",
   "nbconvert_exporter": "python",
   "pygments_lexer": "ipython2",
   "version": "2.7.6"
  }
 },
 "nbformat": 4,
 "nbformat_minor": 5
}
